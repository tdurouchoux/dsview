{
 "cells": [
  {
   "cell_type": "markdown",
   "metadata": {},
   "source": [
    "Back to topic \n",
    "Insist on must be Data Science related sujetcs "
   ]
  },
  {
   "cell_type": "markdown",
   "metadata": {},
   "source": [
    "Duplicate examples : \n",
    "\n",
    "1. RAG\n",
    "\t- components/Methodology/Retrieval-Augmented Generation (RAG)\n",
    "\t- components/Concept/Retrieval-Augmented Generation (RAG)\n",
    "\t- components/Methodology/Retrieval Augmented Generation (RAG)\n",
    "\t- components/Methodology/Retrieval-Augmented-Generation (RAG)\n",
    "2. Keras\n",
    "\t- components/Library/Keras\n",
    "\t- components/Library/Keras 3.0\n",
    "3. Hugging Face hub\n",
    "\t- components/Library/Hugging Face Hub\n",
    "\t- components/Library/huggingface_hub\n",
    "4. Instruction tuning :\n",
    "\t- components/Methodology/Instruction Tuning\n",
    "\t- components/Methodology/Instruction and Preference Tuning\n",
    "5. KAN \n",
    "\t- components/Concept/KAN Revolution\n",
    "\t- components/Concept/Kolmogorov-Arnold Networks (KANs)\n",
    "6. Knowledge Graph\n",
    "\t- components/Concept/Knowledge Graphs\n",
    "\t- components/Methodology/Knowledge Graph Memory Structures"
   ]
  },
  {
   "cell_type": "code",
   "execution_count": 2,
   "metadata": {},
   "outputs": [],
   "source": [
    "with open(\"../../dsview_vault/components/Methodology/Retrieval-Augmented Generation (RAG).md\", \"r\") as markdown_file:\n",
    "    content = markdown_file.read()"
   ]
  },
  {
   "cell_type": "code",
   "execution_count": 3,
   "metadata": {},
   "outputs": [
    {
     "data": {
      "text/plain": [
       "\"---\\ndate: '2024-07-03'\\ntype: Methodology\\n---\\n\\nA technique that enhances the performance of language models by integrating retrieval mechanisms to provide relevant context for generating responses.\""
      ]
     },
     "execution_count": 3,
     "metadata": {},
     "output_type": "execute_result"
    }
   ],
   "source": [
    "content"
   ]
  },
  {
   "cell_type": "code",
   "execution_count": 4,
   "metadata": {},
   "outputs": [],
   "source": [
    "import frontmatter\n",
    "\n",
    "post = frontmatter.load(\"../../dsview_vault/components/Methodology/Retrieval-Augmented Generation (RAG).md\")"
   ]
  },
  {
   "cell_type": "code",
   "execution_count": 1,
   "metadata": {},
   "outputs": [
    {
     "data": {
      "text/plain": [
       "True"
      ]
     },
     "execution_count": 1,
     "metadata": {},
     "output_type": "execute_result"
    }
   ],
   "source": [
    "from dotenv import load_dotenv\n",
    "from langchain_openai import ChatOpenAI\n",
    "from langchain_core.prompts import ChatPromptTemplate\n",
    "from langchain_core.pydantic_v1 import BaseModel, Field\n",
    "\n",
    "\n",
    "\n",
    "load_dotenv()\n"
   ]
  },
  {
   "cell_type": "code",
   "execution_count": 2,
   "metadata": {},
   "outputs": [],
   "source": [
    "llm = ChatOpenAI(temperature=0, model_name=\"gpt-4o-mini\")\n"
   ]
  },
  {
   "cell_type": "code",
   "execution_count": 3,
   "metadata": {},
   "outputs": [],
   "source": [
    "from dsview.config import load_content_extraction_config\n",
    "from dsview.content_extraction import DataScienceTopic"
   ]
  },
  {
   "cell_type": "code",
   "execution_count": 40,
   "metadata": {},
   "outputs": [
    {
     "ename": "SyntaxError",
     "evalue": "invalid syntax (1132830326.py, line 1)",
     "output_type": "error",
     "traceback": [
      "\u001b[0;36m  Cell \u001b[0;32mIn[40], line 1\u001b[0;36m\u001b[0m\n\u001b[0;31m    Topics should not\u001b[0m\n\u001b[0m           ^\u001b[0m\n\u001b[0;31mSyntaxError\u001b[0m\u001b[0;31m:\u001b[0m invalid syntax\n"
     ]
    }
   ],
   "source": [
    "Topics should not \n",
    "  \t\texactly match to qualify for merging., but they should represent the reference the same generic theme or tool.\n",
    "\t\t"
   ]
  },
  {
   "cell_type": "code",
   "execution_count": 48,
   "metadata": {},
   "outputs": [],
   "source": [
    "\n",
    "config = load_content_extraction_config()\n",
    "\n",
    "\n",
    "class ErResult(BaseModel):\n",
    "    merge_topic: bool = Field(description=\"Wether or not the two provided topics should be merged.\")\n",
    "    topic: DataScienceTopic = Field(\n",
    "        default=None,\n",
    "        description=\"Result of the merge between the two topics, only provided if topics should be merged\")\n",
    "\n",
    "\n",
    "er_prompt = ChatPromptTemplate.from_messages(\n",
    "\t[\n",
    "\t\t(\"system\", \n",
    "\t\t\"\"\"You are part of an knowledge management system, you assist Data Scientists in their technical \n",
    "\t\treview process. The broader objective is to make it easier for a Data Scientist to track and \n",
    "\t\tunderstand new trends and tools. Your specific goal is to deduplicate Data Science topics.\n",
    "  \n",
    "  \t\tA data science topics is defined by a :\n",
    "    \t\t- name\n",
    "      \t\t- type from : {} \n",
    "\t\t\t- description \n",
    "\n",
    "\t\tYou will be given two such instance, you must decide wether they should be merged. Topics should not \n",
    "  \t\texactly match to qualify for merging., but they should represent the reference the same generic theme or tool.\n",
    "\t\t\n",
    "\t\tIf two topics should be merged, provide another topic that combine their attributes. When it is necessary, \n",
    "\t\tthe merged topic should be more generic than the originals. If they should not be merged return None for the topic.\n",
    "  \t\t\"\"\".format(\", \".join(config.topic_categories))\n",
    "    ),\n",
    "\t\t(\"user\", \"\"\"\n",
    "\t\t\tHere is the first Data Science topic : \n",
    "\t\t\t\t- name : {name_1}\n",
    "\t\t\t\t- type : {type_1}\n",
    "\t\t\t\t- description : {description_1}\n",
    "    \n",
    "\t\t\tHere is the second Data Science topic :\n",
    "\t\t\t\t- name : {name_2}\n",
    "\t\t\t\t- type : {type_2}\n",
    "\t\t\t\t- description : {description_2}\n",
    "     \t\"\"\"),\n",
    "\t]\n",
    ")\n",
    "\n",
    "er_classifier = er_prompt | llm.with_structured_output(schema=ErResult)\n"
   ]
  },
  {
   "cell_type": "code",
   "execution_count": 10,
   "metadata": {},
   "outputs": [],
   "source": [
    "from pathlib import Path\n",
    "\n",
    "import frontmatter"
   ]
  },
  {
   "cell_type": "code",
   "execution_count": 49,
   "metadata": {},
   "outputs": [],
   "source": [
    "def get_er_result(path_1: Path, path_2: Path):\n",
    "\tnote_1 = frontmatter.load(path_1)\n",
    "\tnote_2 = frontmatter.load(path_2)\n",
    "\n",
    "\tresult = er_classifier.invoke({\n",
    "\t\t\"name_1\": path_1.stem,\n",
    "\t\t\"type_1\": note_1[\"type\"],\n",
    "\t\t\"description_1\": note_1.content,\n",
    "\t\t\"name_2\": path_2.stem,\n",
    "\t\t\"type_2\": note_2[\"type\"],\n",
    "\t\t\"description_2\": note_2.content,\n",
    "\t})\n",
    " \n",
    "\treturn result"
   ]
  },
  {
   "cell_type": "code",
   "execution_count": 7,
   "metadata": {},
   "outputs": [],
   "source": [
    "topics_path = Path(\"../../dsview_vault/components\")"
   ]
  },
  {
   "cell_type": "code",
   "execution_count": 16,
   "metadata": {},
   "outputs": [],
   "source": [
    "path_1 = topics_path / \"Methodology\" / \"Retrieval-Augmented Generation (RAG).md\"\n",
    "path_2 = topics_path / \"Methodology\" / \"Retrieval Augmented Generation (RAG).md\"\n",
    "\n",
    "result = get_er_result(path_1, path_2)"
   ]
  },
  {
   "cell_type": "code",
   "execution_count": 18,
   "metadata": {},
   "outputs": [
    {
     "data": {
      "text/plain": [
       "True"
      ]
     },
     "execution_count": 18,
     "metadata": {},
     "output_type": "execute_result"
    }
   ],
   "source": [
    "result.merge_topic"
   ]
  },
  {
   "cell_type": "code",
   "execution_count": 21,
   "metadata": {},
   "outputs": [
    {
     "data": {
      "text/plain": [
       "'A technique that enhances the performance of language models by integrating retrieval mechanisms to provide relevant context for generating responses.'"
      ]
     },
     "execution_count": 21,
     "metadata": {},
     "output_type": "execute_result"
    }
   ],
   "source": [
    "frontmatter.load(path_1).content"
   ]
  },
  {
   "cell_type": "code",
   "execution_count": 22,
   "metadata": {},
   "outputs": [
    {
     "data": {
      "text/plain": [
       "'A method that integrates different modes, such as embeddings models, to enhance AI applications.'"
      ]
     },
     "execution_count": 22,
     "metadata": {},
     "output_type": "execute_result"
    }
   ],
   "source": [
    "frontmatter.load(path_2).content"
   ]
  },
  {
   "cell_type": "code",
   "execution_count": 20,
   "metadata": {},
   "outputs": [
    {
     "name": "stdout",
     "output_type": "stream",
     "text": [
      "A technique that enhances the performance of language models by integrating retrieval mechanisms and different modes, such as embeddings models, to provide relevant context for generating responses and enhance AI applications.\n"
     ]
    }
   ],
   "source": [
    "print(result.topic.description)"
   ]
  },
  {
   "cell_type": "code",
   "execution_count": 23,
   "metadata": {},
   "outputs": [],
   "source": [
    "path_1 = topics_path / \"Library\" / \"Hugging Face Hub.md\"\n",
    "path_2 = topics_path / \"Library\" / \"huggingface_hub.md\"\n",
    "\n",
    "result = get_er_result(path_1, path_2)\n"
   ]
  },
  {
   "cell_type": "code",
   "execution_count": 25,
   "metadata": {},
   "outputs": [
    {
     "data": {
      "text/plain": [
       "'A platform for accessing and sharing model weights and datasets.'"
      ]
     },
     "execution_count": 25,
     "metadata": {},
     "output_type": "execute_result"
    }
   ],
   "source": [
    "frontmatter.load(path_1).content"
   ]
  },
  {
   "cell_type": "code",
   "execution_count": 26,
   "metadata": {},
   "outputs": [
    {
     "data": {
      "text/plain": [
       "'A library for downloading and managing datasets from Hugging Face.'"
      ]
     },
     "execution_count": 26,
     "metadata": {},
     "output_type": "execute_result"
    }
   ],
   "source": [
    "frontmatter.load(path_2).content"
   ]
  },
  {
   "cell_type": "code",
   "execution_count": 27,
   "metadata": {},
   "outputs": [
    {
     "name": "stdout",
     "output_type": "stream",
     "text": [
      "A library and platform for accessing, sharing, and managing model weights and datasets from Hugging Face.\n"
     ]
    }
   ],
   "source": [
    "print(result.topic.description)"
   ]
  },
  {
   "cell_type": "code",
   "execution_count": 50,
   "metadata": {},
   "outputs": [],
   "source": [
    "path_1 = topics_path / \"Concept\" / \"KAN Revolution.md\"\n",
    "path_2 = topics_path / \"Concept\" / \"Kolmogorov-Arnold Networks (KANs).md\"\n",
    "\n",
    "result = get_er_result(path_1, path_2)\n"
   ]
  },
  {
   "cell_type": "code",
   "execution_count": 51,
   "metadata": {},
   "outputs": [
    {
     "data": {
      "text/plain": [
       "True"
      ]
     },
     "execution_count": 51,
     "metadata": {},
     "output_type": "execute_result"
    }
   ],
   "source": [
    "result.merge_topic"
   ]
  },
  {
   "cell_type": "code",
   "execution_count": 53,
   "metadata": {},
   "outputs": [
    {
     "data": {
      "text/plain": [
       "'KANs in Data Science'"
      ]
     },
     "execution_count": 53,
     "metadata": {},
     "output_type": "execute_result"
    }
   ],
   "source": [
    "result.topic.name"
   ]
  },
  {
   "cell_type": "code",
   "execution_count": 54,
   "metadata": {},
   "outputs": [
    {
     "data": {
      "text/plain": [
       "'A transformative approach in the field of artificial intelligence and data science that emphasizes efficiency and effectiveness in achieving results.'"
      ]
     },
     "execution_count": 54,
     "metadata": {},
     "output_type": "execute_result"
    }
   ],
   "source": [
    "frontmatter.load(path_1).content"
   ]
  },
  {
   "cell_type": "code",
   "execution_count": 55,
   "metadata": {},
   "outputs": [
    {
     "data": {
      "text/plain": [
       "'A type of neural network based on the Kolmogorov-Arnold representation theorem, offering advantages in model accuracy and interpretability compared to traditional MLPs.'"
      ]
     },
     "execution_count": 55,
     "metadata": {},
     "output_type": "execute_result"
    }
   ],
   "source": [
    "frontmatter.load(path_2).content"
   ]
  },
  {
   "cell_type": "code",
   "execution_count": 56,
   "metadata": {},
   "outputs": [
    {
     "name": "stdout",
     "output_type": "stream",
     "text": [
      "KANs, or Kolmogorov-Arnold Networks, represent a transformative approach in artificial intelligence and data science, emphasizing efficiency and effectiveness in achieving results while offering advantages in model accuracy and interpretability compared to traditional neural networks.\n"
     ]
    }
   ],
   "source": [
    "print(result.topic.description)"
   ]
  },
  {
   "cell_type": "code",
   "execution_count": 57,
   "metadata": {},
   "outputs": [],
   "source": [
    "path_1 = topics_path / \"Concept\" / \"AI Sidebar.md\"\n",
    "path_2 = topics_path / \"Concept\" / \"AI Act.md\"\n",
    "\n",
    "result = get_er_result(path_1, path_2)\n"
   ]
  },
  {
   "cell_type": "code",
   "execution_count": 58,
   "metadata": {},
   "outputs": [
    {
     "data": {
      "text/plain": [
       "ErResult(merge_topic=False, topic=None)"
      ]
     },
     "execution_count": 58,
     "metadata": {},
     "output_type": "execute_result"
    }
   ],
   "source": [
    "result"
   ]
  },
  {
   "cell_type": "code",
   "execution_count": 49,
   "metadata": {},
   "outputs": [
    {
     "data": {
      "text/plain": [
       "'Different subjects.'"
      ]
     },
     "execution_count": 49,
     "metadata": {},
     "output_type": "execute_result"
    }
   ],
   "source": [
    "result.content"
   ]
  },
  {
   "cell_type": "code",
   "execution_count": 59,
   "metadata": {},
   "outputs": [],
   "source": [
    "path_1 = topics_path / \"Methodology\" / \"Instruction Tuning.md\"\n",
    "path_2 = topics_path / \"Methodology\" / \"Instruction and Preference Tuning.md\"\n",
    "\n",
    "result = get_er_result(path_1, path_2)\n"
   ]
  },
  {
   "cell_type": "code",
   "execution_count": 61,
   "metadata": {},
   "outputs": [
    {
     "data": {
      "text/plain": [
       "True"
      ]
     },
     "execution_count": 61,
     "metadata": {},
     "output_type": "execute_result"
    }
   ],
   "source": [
    "result.merge_topic"
   ]
  },
  {
   "cell_type": "code",
   "execution_count": 63,
   "metadata": {},
   "outputs": [
    {
     "data": {
      "text/plain": [
       "'Instruction Tuning'"
      ]
     },
     "execution_count": 63,
     "metadata": {},
     "output_type": "execute_result"
    }
   ],
   "source": [
    "result.topic.name"
   ]
  },
  {
   "cell_type": "code",
   "execution_count": 62,
   "metadata": {},
   "outputs": [
    {
     "data": {
      "text/plain": [
       "'A process to fine-tune language models on specific tasks or instructions, including emerging methodologies that refine model behavior based on user instructions and preferences.'"
      ]
     },
     "execution_count": 62,
     "metadata": {},
     "output_type": "execute_result"
    }
   ],
   "source": [
    "result.topic.description"
   ]
  },
  {
   "cell_type": "code",
   "execution_count": 56,
   "metadata": {},
   "outputs": [],
   "source": [
    "path_1 = topics_path / \"Library\" / \"Keras.md\"\n",
    "path_2 = topics_path / \"Library\" / \"Keras 3.0.md\""
   ]
  },
  {
   "cell_type": "code",
   "execution_count": 58,
   "metadata": {},
   "outputs": [
    {
     "data": {
      "text/plain": [
       "'Same subject.'"
      ]
     },
     "execution_count": 58,
     "metadata": {},
     "output_type": "execute_result"
    }
   ],
   "source": [
    "result.content"
   ]
  },
  {
   "cell_type": "code",
   "execution_count": 64,
   "metadata": {},
   "outputs": [],
   "source": [
    "path_1 = topics_path / \"Concept\" / \"Knowledge Graphs.md\"\n",
    "path_2 = topics_path / \"Methodology\" / \"Knowledge Graph Memory Structures.md\"\n",
    "\n",
    "result = get_er_result(path_1, path_2)\n"
   ]
  },
  {
   "cell_type": "code",
   "execution_count": 65,
   "metadata": {},
   "outputs": [
    {
     "data": {
      "text/plain": [
       "True"
      ]
     },
     "execution_count": 65,
     "metadata": {},
     "output_type": "execute_result"
    }
   ],
   "source": [
    "result.merge_topic"
   ]
  },
  {
   "cell_type": "code",
   "execution_count": 66,
   "metadata": {},
   "outputs": [
    {
     "data": {
      "text/plain": [
       "'Knowledge Graphs and Memory Structures'"
      ]
     },
     "execution_count": 66,
     "metadata": {},
     "output_type": "execute_result"
    }
   ],
   "source": [
    "result.topic.name"
   ]
  },
  {
   "cell_type": "code",
   "execution_count": 67,
   "metadata": {},
   "outputs": [
    {
     "data": {
      "text/plain": [
       "'A conceptual framework that combines the representation of information in graph format with methodologies for enhancing outputs of language models through the use of knowledge graph memory structures.'"
      ]
     },
     "execution_count": 67,
     "metadata": {},
     "output_type": "execute_result"
    }
   ],
   "source": [
    "result.topic.description"
   ]
  },
  {
   "cell_type": "code",
   "execution_count": 66,
   "metadata": {},
   "outputs": [
    {
     "data": {
      "text/plain": [
       "'Different topics.'"
      ]
     },
     "execution_count": 66,
     "metadata": {},
     "output_type": "execute_result"
    }
   ],
   "source": [
    "result.content"
   ]
  },
  {
   "cell_type": "code",
   "execution_count": 11,
   "metadata": {},
   "outputs": [],
   "source": []
  },
  {
   "cell_type": "code",
   "execution_count": 39,
   "metadata": {},
   "outputs": [],
   "source": [
    "from Levenshtein import distance, jaro"
   ]
  },
  {
   "cell_type": "code",
   "execution_count": 43,
   "metadata": {},
   "outputs": [
    {
     "data": {
      "text/plain": [
       "True"
      ]
     },
     "execution_count": 43,
     "metadata": {},
     "output_type": "execute_result"
    }
   ],
   "source": [
    "jaro(\"Instruction Tuning.md\", \"Instruction and Preference Tuning.md\") > 0.75"
   ]
  },
  {
   "cell_type": "code",
   "execution_count": null,
   "metadata": {},
   "outputs": [
    {
     "data": {
      "text/plain": [
       "True"
      ]
     },
     "metadata": {},
     "output_type": "display_data"
    }
   ],
   "source": [
    "jaro(\"Instruction Tuning.md\", \"Instruction and Preference Tuning.md\") > 0.75"
   ]
  },
  {
   "cell_type": "code",
   "execution_count": 53,
   "metadata": {},
   "outputs": [
    {
     "data": {
      "text/plain": [
       "0.8518518518518517"
      ]
     },
     "execution_count": 53,
     "metadata": {},
     "output_type": "execute_result"
    }
   ],
   "source": [
    "jaro(\"Keras\", \"Keras 3.0\")"
   ]
  },
  {
   "cell_type": "code",
   "execution_count": 68,
   "metadata": {},
   "outputs": [],
   "source": [
    "vault_path = Path(\"../../dsview_vault\")"
   ]
  },
  {
   "cell_type": "code",
   "execution_count": 71,
   "metadata": {},
   "outputs": [
    {
     "data": {
      "text/plain": [
       "<generator object Path.glob at 0x10514ace0>"
      ]
     },
     "execution_count": 71,
     "metadata": {},
     "output_type": "execute_result"
    }
   ],
   "source": [
    "(vault_path / \"components\" / \"Concept\").glob(\"*.md\")"
   ]
  },
  {
   "cell_type": "code",
   "execution_count": 73,
   "metadata": {},
   "outputs": [
    {
     "name": "stdout",
     "output_type": "stream",
     "text": [
      "../../dsview_vault/components/Concept/Licensing formats.md\n",
      "../../dsview_vault/components/Concept/Prompt Tuning.md\n",
      "../../dsview_vault/components/Concept/Deep inspection.md\n",
      "../../dsview_vault/components/Concept/Multi-modality Vision Language Models (VLMs).md\n",
      "../../dsview_vault/components/Concept/Compliance requirements.md\n",
      "../../dsview_vault/components/Concept/Versioning.md\n",
      "../../dsview_vault/components/Concept/Popularity Score.md\n",
      "../../dsview_vault/components/Concept/Document Rules.md\n",
      "../../dsview_vault/components/Concept/AINo Results.md\n",
      "../../dsview_vault/components/Concept/Pareto Frontiers.md\n",
      "../../dsview_vault/components/Concept/LLM Alignment.md\n",
      "../../dsview_vault/components/Concept/Solution Accelerator Package.md\n",
      "../../dsview_vault/components/Concept/Graph Structure.md\n",
      "../../dsview_vault/components/Concept/Vectorized processing.md\n",
      "../../dsview_vault/components/Concept/Attention Mechanism.md\n",
      "../../dsview_vault/components/Concept/Latent Variables.md\n",
      "../../dsview_vault/components/Concept/Out of core processing.md\n",
      "../../dsview_vault/components/Concept/Knowledge Graphs.md\n",
      "../../dsview_vault/components/Concept/Lazy API.md\n",
      "../../dsview_vault/components/Concept/Dimensionality Reduction.md\n",
      "../../dsview_vault/components/Concept/Open Source LLMs.md\n",
      "../../dsview_vault/components/Concept/Kolmogorov-Arnold Networks (KANs).md\n",
      "../../dsview_vault/components/Concept/Risk-based approach.md\n",
      "../../dsview_vault/components/Concept/Core knowledge.md\n",
      "../../dsview_vault/components/Concept/Public Statistics.md\n",
      "../../dsview_vault/components/Concept/Covariates Support.md\n",
      "../../dsview_vault/components/Concept/ARC benchmark.md\n",
      "../../dsview_vault/components/Concept/Generative AI.md\n",
      "../../dsview_vault/components/Concept/Large Language Models (LLMs).md\n",
      "../../dsview_vault/components/Concept/Graph Neural Networks (GNNs).md\n",
      "../../dsview_vault/components/Concept/Brain-Computer Interface (BCI).md\n",
      "../../dsview_vault/components/Concept/Bans on specific AI uses.md\n",
      "../../dsview_vault/components/Concept/Applied Research.md\n",
      "../../dsview_vault/components/Concept/Urban network visualization.md\n",
      "../../dsview_vault/components/Concept/Optimal Model Sizing.md\n",
      "../../dsview_vault/components/Concept/Open Data.md\n",
      "../../dsview_vault/components/Concept/Embodied Conversational Agent.md\n",
      "../../dsview_vault/components/Concept/Latent Spaces.md\n",
      "../../dsview_vault/components/Concept/Activation functions on edges.md\n",
      "../../dsview_vault/components/Concept/Adjacency Matrix.md\n",
      "../../dsview_vault/components/Concept/SSP Cloud.md\n",
      "../../dsview_vault/components/Concept/Context Adherence.md\n",
      "../../dsview_vault/components/Concept/Vector Database.md\n",
      "../../dsview_vault/components/Concept/Open Source.md\n",
      "../../dsview_vault/components/Concept/AI Act.md\n",
      "../../dsview_vault/components/Concept/Feature Interpretability.md\n",
      "../../dsview_vault/components/Concept/Apache Arrow.md\n",
      "../../dsview_vault/components/Concept/AI Sidebar.md\n",
      "../../dsview_vault/components/Concept/Isotropic Gaussian Distribution.md\n",
      "../../dsview_vault/components/Concept/Digital platform regulation.md\n",
      "../../dsview_vault/components/Concept/Scaling Laws.md\n",
      "../../dsview_vault/components/Concept/Dynamic typing.md\n",
      "../../dsview_vault/components/Concept/KAN Revolution.md\n",
      "../../dsview_vault/components/Concept/Compute Scaling.md\n",
      "../../dsview_vault/components/Concept/Probabilistic Chess.md\n",
      "../../dsview_vault/components/Concept/Commercial Use Licenses.md\n",
      "../../dsview_vault/components/Concept/Data Access and Management.md\n",
      "../../dsview_vault/components/Concept/Retrieval-Augmented Generation (RAG).md\n",
      "../../dsview_vault/components/Concept/Docker Containerization.md\n",
      "../../dsview_vault/components/Concept/Neural Networks.md\n",
      "../../dsview_vault/components/Concept/Sustainable innovation.md\n",
      "../../dsview_vault/components/Concept/DataFrame.md\n",
      "../../dsview_vault/components/Concept/Multi-threaded query engine.md\n",
      "../../dsview_vault/components/Concept/Safety-Relevant Features.md\n",
      "../../dsview_vault/components/Concept/Corporate lobbying.md\n",
      "../../dsview_vault/components/Concept/GREENER principles.md\n"
     ]
    }
   ],
   "source": [
    "for note in (vault_path / \"components\" / \"Concept\").glob(\"*.md\"):\n",
    "    print(note)"
   ]
  },
  {
   "cell_type": "code",
   "execution_count": 76,
   "metadata": {},
   "outputs": [],
   "source": [
    "test_dict = {\"bonjour\": 0.7, \"connard\": 0.9, \"monsieur\": 0.8}"
   ]
  },
  {
   "cell_type": "code",
   "execution_count": 89,
   "metadata": {},
   "outputs": [],
   "source": [
    "test_dict = {}"
   ]
  },
  {
   "cell_type": "code",
   "execution_count": 91,
   "metadata": {},
   "outputs": [
    {
     "data": {
      "text/plain": [
       "dict_keys([])"
      ]
     },
     "execution_count": 91,
     "metadata": {},
     "output_type": "execute_result"
    }
   ],
   "source": [
    "dict(sorted(test_dict.items(), key=lambda x: x[1], reverse=True)).keys()"
   ]
  },
  {
   "cell_type": "code",
   "execution_count": 1,
   "metadata": {},
   "outputs": [],
   "source": [
    "import obsidiantools.api as otools"
   ]
  },
  {
   "cell_type": "code",
   "execution_count": 2,
   "metadata": {},
   "outputs": [],
   "source": [
    "from pathlib import Path"
   ]
  },
  {
   "cell_type": "code",
   "execution_count": 3,
   "metadata": {},
   "outputs": [],
   "source": [
    "vault_path = Path(\"../../dsview_vault\")"
   ]
  },
  {
   "cell_type": "code",
   "execution_count": 31,
   "metadata": {},
   "outputs": [],
   "source": [
    "vault = otools.Vault(vault_path).connect()"
   ]
  },
  {
   "cell_type": "code",
   "execution_count": 41,
   "metadata": {},
   "outputs": [
    {
     "data": {
      "text/plain": [
       "PosixPath('../../dsview_vault/Azure.md')"
      ]
     },
     "execution_count": 41,
     "metadata": {},
     "output_type": "execute_result"
    }
   ],
   "source": [
    "vault_path / vault.md_file_index[\"Azure\"]"
   ]
  },
  {
   "cell_type": "code",
   "execution_count": 40,
   "metadata": {},
   "outputs": [
    {
     "data": {
      "text/plain": [
       "{'Azure': PosixPath('Azure.md'),\n",
       " 'GraphRAG: A Modular RAG System': PosixPath('contents/Repository/GraphRAG: A Modular RAG System.md'),\n",
       " 'test': PosixPath('topics/Platform/test.md'),\n",
       " 'topics/Platform/Azure': PosixPath('topics/Platform/Azure.md'),\n",
       " 'GraphRAG': PosixPath('topics/Library/GraphRAG.md'),\n",
       " 'Prompt Tuning': PosixPath('topics/Concept/Prompt Tuning.md'),\n",
       " 'Knowledge Graph Memory Structures': PosixPath('topics/Concept/Knowledge Graph Memory Structures.md'),\n",
       " 'Retrieval-Augmented Generation (RAG)': PosixPath('topics/Concept/Retrieval-Augmented Generation (RAG).md')}"
      ]
     },
     "execution_count": 40,
     "metadata": {},
     "output_type": "execute_result"
    }
   ],
   "source": [
    "vault.md_file_index"
   ]
  },
  {
   "cell_type": "code",
   "execution_count": 32,
   "metadata": {},
   "outputs": [
    {
     "data": {
      "text/plain": [
       "[]"
      ]
     },
     "execution_count": 32,
     "metadata": {},
     "output_type": "execute_result"
    }
   ],
   "source": [
    "vault.get_backlinks(\"Azure\")"
   ]
  },
  {
   "cell_type": "code",
   "execution_count": 35,
   "metadata": {},
   "outputs": [
    {
     "data": {
      "text/plain": [
       "PosixPath('topics/Concept/Retrieval-Augmented Generation (RAG).md')"
      ]
     },
     "execution_count": 35,
     "metadata": {},
     "output_type": "execute_result"
    }
   ],
   "source": [
    "vault.md_file_index[\"Retrieval-Augmented Generation (RAG)\"]"
   ]
  },
  {
   "cell_type": "code",
   "execution_count": 29,
   "metadata": {},
   "outputs": [
    {
     "data": {
      "text/plain": [
       "[]"
      ]
     },
     "execution_count": 29,
     "metadata": {},
     "output_type": "execute_result"
    }
   ],
   "source": [
    "vault.get_backlinks(\"Retrieval-Augmented Generation (RAG)\")"
   ]
  },
  {
   "cell_type": "code",
   "execution_count": null,
   "metadata": {},
   "outputs": [
    {
     "data": {
      "text/plain": [
       "[]"
      ]
     },
     "metadata": {},
     "output_type": "display_data"
    }
   ],
   "source": [
    "vault.get_backlinks(\"Retrieval-Augmented Generation (RAG)\")"
   ]
  },
  {
   "cell_type": "code",
   "execution_count": 5,
   "metadata": {},
   "outputs": [],
   "source": [
    "df = vault.get_note_metadata()"
   ]
  },
  {
   "cell_type": "code",
   "execution_count": 6,
   "metadata": {},
   "outputs": [
    {
     "data": {
      "text/html": [
       "<div>\n",
       "<style scoped>\n",
       "    .dataframe tbody tr th:only-of-type {\n",
       "        vertical-align: middle;\n",
       "    }\n",
       "\n",
       "    .dataframe tbody tr th {\n",
       "        vertical-align: top;\n",
       "    }\n",
       "\n",
       "    .dataframe thead th {\n",
       "        text-align: right;\n",
       "    }\n",
       "</style>\n",
       "<table border=\"1\" class=\"dataframe\">\n",
       "  <thead>\n",
       "    <tr style=\"text-align: right;\">\n",
       "      <th></th>\n",
       "      <th>rel_filepath</th>\n",
       "      <th>abs_filepath</th>\n",
       "      <th>note_exists</th>\n",
       "      <th>n_backlinks</th>\n",
       "      <th>n_wikilinks</th>\n",
       "      <th>n_tags</th>\n",
       "      <th>n_embedded_files</th>\n",
       "      <th>modified_time</th>\n",
       "    </tr>\n",
       "    <tr>\n",
       "      <th>note</th>\n",
       "      <th></th>\n",
       "      <th></th>\n",
       "      <th></th>\n",
       "      <th></th>\n",
       "      <th></th>\n",
       "      <th></th>\n",
       "      <th></th>\n",
       "      <th></th>\n",
       "    </tr>\n",
       "  </thead>\n",
       "  <tbody>\n",
       "    <tr>\n",
       "      <th>topics/Concept/DataFrames</th>\n",
       "      <td>NaN</td>\n",
       "      <td>NaN</td>\n",
       "      <td>False</td>\n",
       "      <td>1</td>\n",
       "      <td>NaN</td>\n",
       "      <td>NaN</td>\n",
       "      <td>NaN</td>\n",
       "      <td>NaT</td>\n",
       "    </tr>\n",
       "    <tr>\n",
       "      <th>Langchain</th>\n",
       "      <td>topics/Library/Langchain.md</td>\n",
       "      <td>../../dsview_vault/topics/Library/Langchain.md</td>\n",
       "      <td>True</td>\n",
       "      <td>0</td>\n",
       "      <td>0.0</td>\n",
       "      <td>0.0</td>\n",
       "      <td>0.0</td>\n",
       "      <td>2024-08-29 22:25:22.643271685</td>\n",
       "    </tr>\n",
       "    <tr>\n",
       "      <th>topics/Platform/Azure</th>\n",
       "      <td>NaN</td>\n",
       "      <td>NaN</td>\n",
       "      <td>False</td>\n",
       "      <td>1</td>\n",
       "      <td>NaN</td>\n",
       "      <td>NaN</td>\n",
       "      <td>NaN</td>\n",
       "      <td>NaT</td>\n",
       "    </tr>\n",
       "    <tr>\n",
       "      <th>KAN Revolution</th>\n",
       "      <td>topics/Concept/KAN Revolution.md</td>\n",
       "      <td>../../dsview_vault/topics/Concept/KAN Revoluti...</td>\n",
       "      <td>True</td>\n",
       "      <td>0</td>\n",
       "      <td>0.0</td>\n",
       "      <td>0.0</td>\n",
       "      <td>0.0</td>\n",
       "      <td>2024-08-29 22:27:00.132393836</td>\n",
       "    </tr>\n",
       "    <tr>\n",
       "      <th>topics/Model/Claude 3.5 Sonnet</th>\n",
       "      <td>NaN</td>\n",
       "      <td>NaN</td>\n",
       "      <td>False</td>\n",
       "      <td>2</td>\n",
       "      <td>NaN</td>\n",
       "      <td>NaN</td>\n",
       "      <td>NaN</td>\n",
       "      <td>NaT</td>\n",
       "    </tr>\n",
       "    <tr>\n",
       "      <th>...</th>\n",
       "      <td>...</td>\n",
       "      <td>...</td>\n",
       "      <td>...</td>\n",
       "      <td>...</td>\n",
       "      <td>...</td>\n",
       "      <td>...</td>\n",
       "      <td>...</td>\n",
       "      <td>...</td>\n",
       "    </tr>\n",
       "    <tr>\n",
       "      <th>topics/Library/Polars</th>\n",
       "      <td>NaN</td>\n",
       "      <td>NaN</td>\n",
       "      <td>False</td>\n",
       "      <td>2</td>\n",
       "      <td>NaN</td>\n",
       "      <td>NaN</td>\n",
       "      <td>NaN</td>\n",
       "      <td>NaT</td>\n",
       "    </tr>\n",
       "    <tr>\n",
       "      <th>topics/Concept/Expressions</th>\n",
       "      <td>NaN</td>\n",
       "      <td>NaN</td>\n",
       "      <td>False</td>\n",
       "      <td>1</td>\n",
       "      <td>NaN</td>\n",
       "      <td>NaN</td>\n",
       "      <td>NaN</td>\n",
       "      <td>NaT</td>\n",
       "    </tr>\n",
       "    <tr>\n",
       "      <th>Azure Cloud Services</th>\n",
       "      <td>topics/Platform/Azure Cloud Services.md</td>\n",
       "      <td>../../dsview_vault/topics/Platform/Azure Cloud...</td>\n",
       "      <td>True</td>\n",
       "      <td>0</td>\n",
       "      <td>0.0</td>\n",
       "      <td>0.0</td>\n",
       "      <td>0.0</td>\n",
       "      <td>2024-08-29 22:23:24.723840714</td>\n",
       "    </tr>\n",
       "    <tr>\n",
       "      <th>TimeGPT-1</th>\n",
       "      <td>topics/Model/TimeGPT-1.md</td>\n",
       "      <td>../../dsview_vault/topics/Model/TimeGPT-1.md</td>\n",
       "      <td>True</td>\n",
       "      <td>0</td>\n",
       "      <td>0.0</td>\n",
       "      <td>0.0</td>\n",
       "      <td>0.0</td>\n",
       "      <td>2024-08-29 22:26:37.090745926</td>\n",
       "    </tr>\n",
       "    <tr>\n",
       "      <th>topics/Concept/Prompt Tuning</th>\n",
       "      <td>NaN</td>\n",
       "      <td>NaN</td>\n",
       "      <td>False</td>\n",
       "      <td>1</td>\n",
       "      <td>NaN</td>\n",
       "      <td>NaN</td>\n",
       "      <td>NaN</td>\n",
       "      <td>NaT</td>\n",
       "    </tr>\n",
       "  </tbody>\n",
       "</table>\n",
       "<p>178 rows × 8 columns</p>\n",
       "</div>"
      ],
      "text/plain": [
       "                                                           rel_filepath  \\\n",
       "note                                                                      \n",
       "topics/Concept/DataFrames                                           NaN   \n",
       "Langchain                                   topics/Library/Langchain.md   \n",
       "topics/Platform/Azure                                               NaN   \n",
       "KAN Revolution                         topics/Concept/KAN Revolution.md   \n",
       "topics/Model/Claude 3.5 Sonnet                                      NaN   \n",
       "...                                                                 ...   \n",
       "topics/Library/Polars                                               NaN   \n",
       "topics/Concept/Expressions                                          NaN   \n",
       "Azure Cloud Services            topics/Platform/Azure Cloud Services.md   \n",
       "TimeGPT-1                                     topics/Model/TimeGPT-1.md   \n",
       "topics/Concept/Prompt Tuning                                        NaN   \n",
       "\n",
       "                                                                     abs_filepath  \\\n",
       "note                                                                                \n",
       "topics/Concept/DataFrames                                                     NaN   \n",
       "Langchain                          ../../dsview_vault/topics/Library/Langchain.md   \n",
       "topics/Platform/Azure                                                         NaN   \n",
       "KAN Revolution                  ../../dsview_vault/topics/Concept/KAN Revoluti...   \n",
       "topics/Model/Claude 3.5 Sonnet                                                NaN   \n",
       "...                                                                           ...   \n",
       "topics/Library/Polars                                                         NaN   \n",
       "topics/Concept/Expressions                                                    NaN   \n",
       "Azure Cloud Services            ../../dsview_vault/topics/Platform/Azure Cloud...   \n",
       "TimeGPT-1                            ../../dsview_vault/topics/Model/TimeGPT-1.md   \n",
       "topics/Concept/Prompt Tuning                                                  NaN   \n",
       "\n",
       "                                note_exists  n_backlinks  n_wikilinks  n_tags  \\\n",
       "note                                                                            \n",
       "topics/Concept/DataFrames             False            1          NaN     NaN   \n",
       "Langchain                              True            0          0.0     0.0   \n",
       "topics/Platform/Azure                 False            1          NaN     NaN   \n",
       "KAN Revolution                         True            0          0.0     0.0   \n",
       "topics/Model/Claude 3.5 Sonnet        False            2          NaN     NaN   \n",
       "...                                     ...          ...          ...     ...   \n",
       "topics/Library/Polars                 False            2          NaN     NaN   \n",
       "topics/Concept/Expressions            False            1          NaN     NaN   \n",
       "Azure Cloud Services                   True            0          0.0     0.0   \n",
       "TimeGPT-1                              True            0          0.0     0.0   \n",
       "topics/Concept/Prompt Tuning          False            1          NaN     NaN   \n",
       "\n",
       "                                n_embedded_files                 modified_time  \n",
       "note                                                                            \n",
       "topics/Concept/DataFrames                    NaN                           NaT  \n",
       "Langchain                                    0.0 2024-08-29 22:25:22.643271685  \n",
       "topics/Platform/Azure                        NaN                           NaT  \n",
       "KAN Revolution                               0.0 2024-08-29 22:27:00.132393836  \n",
       "topics/Model/Claude 3.5 Sonnet               NaN                           NaT  \n",
       "...                                          ...                           ...  \n",
       "topics/Library/Polars                        NaN                           NaT  \n",
       "topics/Concept/Expressions                   NaN                           NaT  \n",
       "Azure Cloud Services                         0.0 2024-08-29 22:23:24.723840714  \n",
       "TimeGPT-1                                    0.0 2024-08-29 22:26:37.090745926  \n",
       "topics/Concept/Prompt Tuning                 NaN                           NaT  \n",
       "\n",
       "[178 rows x 8 columns]"
      ]
     },
     "execution_count": 6,
     "metadata": {},
     "output_type": "execute_result"
    }
   ],
   "source": [
    "df"
   ]
  },
  {
   "cell_type": "code",
   "execution_count": 21,
   "metadata": {},
   "outputs": [
    {
     "data": {
      "text/plain": [
       "PosixPath('topics/Library/Langchain.md')"
      ]
     },
     "execution_count": 21,
     "metadata": {},
     "output_type": "execute_result"
    }
   ],
   "source": [
    "note_path = Path(\"../../dsview_vault/topics/Library/Langchain.md\")\n",
    "\n",
    "note_path.relative_to(vault_path)"
   ]
  },
  {
   "cell_type": "code",
   "execution_count": 24,
   "metadata": {},
   "outputs": [
    {
     "data": {
      "text/plain": [
       "['Enhancing Language Model Performance']"
      ]
     },
     "execution_count": 24,
     "metadata": {},
     "output_type": "execute_result"
    }
   ],
   "source": [
    "vault.get_backlinks(str(note_path.relative_to(vault_path)).replace(\".md\", \"\"))"
   ]
  },
  {
   "cell_type": "code",
   "execution_count": 9,
   "metadata": {},
   "outputs": [
    {
     "data": {
      "text/plain": [
       "PosixPath('contents/Repository/GraphRAG: A Modular RAG System.md')"
      ]
     },
     "execution_count": 9,
     "metadata": {},
     "output_type": "execute_result"
    }
   ],
   "source": [
    "vault.md_file_index[\"GraphRAG: A Modular RAG System\"]"
   ]
  },
  {
   "cell_type": "code",
   "execution_count": 15,
   "metadata": {},
   "outputs": [
    {
     "ename": "KeyError",
     "evalue": "'topics/Concept/DataFrames'",
     "output_type": "error",
     "traceback": [
      "\u001b[0;31m---------------------------------------------------------------------------\u001b[0m",
      "\u001b[0;31mKeyError\u001b[0m                                  Traceback (most recent call last)",
      "Cell \u001b[0;32mIn[15], line 1\u001b[0m\n\u001b[0;32m----> 1\u001b[0m \u001b[43mvault\u001b[49m\u001b[38;5;241;43m.\u001b[39;49m\u001b[43mmd_file_index\u001b[49m\u001b[43m[\u001b[49m\u001b[38;5;124;43m\"\u001b[39;49m\u001b[38;5;124;43mtopics/Concept/DataFrames\u001b[39;49m\u001b[38;5;124;43m\"\u001b[39;49m\u001b[43m]\u001b[49m\n",
      "\u001b[0;31mKeyError\u001b[0m: 'topics/Concept/DataFrames'"
     ]
    }
   ],
   "source": [
    "vault.md_file_index"
   ]
  },
  {
   "cell_type": "code",
   "execution_count": null,
   "metadata": {},
   "outputs": [],
   "source": [
    "vault.get_front_matter()"
   ]
  },
  {
   "cell_type": "code",
   "execution_count": 18,
   "metadata": {},
   "outputs": [
    {
     "data": {
      "text/plain": [
       "{'Benchmarking Foundation Models for Time Series': {'content_type': 'Repository',\n",
       "  'date': '2024-06-12',\n",
       "  'read': False,\n",
       "  'tags': ['Time_Series'],\n",
       "  'type': 'content'},\n",
       " 'PretzelAI: Modern Jupyter Replacement': {'content_type': 'Repository',\n",
       "  'date': '2024-07-03',\n",
       "  'read': False,\n",
       "  'tags': ['Data_Engineering'],\n",
       "  'type': 'content'},\n",
       " 'Deep Inspection of Python Objects': {'content_type': 'Repository',\n",
       "  'date': '2024-08-08',\n",
       "  'read': False,\n",
       "  'tags': ['Python'],\n",
       "  'type': 'content'},\n",
       " 'Kolmogorov Arnold Networks': {'content_type': 'Repository',\n",
       "  'date': '2024-06-12',\n",
       "  'read': False,\n",
       "  'tags': ['Deep_Learning'],\n",
       "  'type': 'content'},\n",
       " 'GraphRAG: A Modular RAG System': {'content_type': 'Repository',\n",
       "  'date': '2024-08-08',\n",
       "  'read': False,\n",
       "  'tags': ['Large_Language_Model', 'Data_Engineering'],\n",
       "  'type': 'content'},\n",
       " 'Polars — DataFrames for the new era': {'content_type': 'Documentation',\n",
       "  'date': '2024-06-05',\n",
       "  'read': False,\n",
       "  'tags': ['Data_Engineering', 'Python'],\n",
       "  'type': 'content'},\n",
       " 'The Orange Book of Machine Learning': {'content_type': 'Course',\n",
       "  'date': '2024-07-10',\n",
       "  'read': False,\n",
       "  'tags': ['Supervised_Learning',\n",
       "   'Statistics',\n",
       "   'Data_Visualization',\n",
       "   'Feature_Engineering',\n",
       "   'Model_evaluation'],\n",
       "  'type': 'content'},\n",
       " 'LLM Hallucination Index RAG Special': {'content_type': 'Scientific article',\n",
       "  'date': '2024-08-08',\n",
       "  'read': False,\n",
       "  'tags': ['Large_Language_Model',\n",
       "   'Natural_Language_Processing',\n",
       "   'Model_evaluation'],\n",
       "  'type': 'content'},\n",
       " 'Python Polars: A Lightning-Fast DataFrame Library': {'content_type': 'Blog post',\n",
       "  'date': '2024-06-05',\n",
       "  'read': False,\n",
       "  'tags': ['Data_Engineering'],\n",
       "  'type': 'content'},\n",
       " 'PCA Through a Latent Variable Lens': {'content_type': 'Blog post',\n",
       "  'date': '2024-07-10',\n",
       "  'read': False,\n",
       "  'tags': ['Dimensionality_reduction', 'Statistics'],\n",
       "  'type': 'content'},\n",
       " 'Building with LLMs: Lessons Learned': {'content_type': 'Blog post',\n",
       "  'date': '2024-06-05',\n",
       "  'read': False,\n",
       "  'tags': ['Large_Language_Model'],\n",
       "  'type': 'content'},\n",
       " 'Introducing GitHub Models: AI Engineers on GitHub': {'content_type': 'Blog post',\n",
       "  'date': '2024-08-08',\n",
       "  'read': False,\n",
       "  'tags': ['Generative_AI', 'Large_Language_Model'],\n",
       "  'type': 'content'},\n",
       " 'Enhancing Language Model Performance': {'content_type': 'Blog post',\n",
       "  'date': '2024-07-03',\n",
       "  'read': False,\n",
       "  'tags': ['Large_Language_Model',\n",
       "   'Natural_Language_Processing',\n",
       "   'Data_Engineering'],\n",
       "  'type': 'content'},\n",
       " 'MLOps - YouTube': {'content_type': 'Blog post',\n",
       "  'date': '2024-06-12',\n",
       "  'read': False,\n",
       "  'tags': ['MlOps'],\n",
       "  'type': 'content'},\n",
       " 'AutoML with AutoGluon: Transform Your ML Workflow': {'content_type': 'Blog post',\n",
       "  'date': '2024-07-10',\n",
       "  'read': False,\n",
       "  'tags': ['MlOps'],\n",
       "  'type': 'content'},\n",
       " 'Probabilistic Chess: A New Variant': {'content_type': 'Blog post',\n",
       "  'date': '2024-07-10',\n",
       "  'read': False,\n",
       "  'type': 'content'},\n",
       " 'Deep Learning vs ML in Time Series Forecasting': {'content_type': 'Blog post',\n",
       "  'date': '2024-07-03',\n",
       "  'read': False,\n",
       "  'tags': ['Time_Series', 'Deep_Learning'],\n",
       "  'type': 'content'},\n",
       " 'The KAN Revolution Arriving at AINo Results': {'content_type': 'Blog post',\n",
       "  'date': '2024-06-12',\n",
       "  'read': False,\n",
       "  'tags': ['AI_regulation'],\n",
       "  'type': 'content'},\n",
       " 'LLMs Won’t Lead to AGI - $1M Prize Discussion': {'content_type': 'Blog post',\n",
       "  'date': '2024-07-03',\n",
       "  'read': False,\n",
       "  'tags': ['Large_Language_Model', 'AI_regulation'],\n",
       "  'type': 'content'},\n",
       " 'Introducing Claude 3.5 Sonnet': {'content_type': 'Product main page',\n",
       "  'date': '2024-07-03',\n",
       "  'read': False,\n",
       "  'tags': ['Large_Language_Model',\n",
       "   'Natural_Language_Processing',\n",
       "   'Generative_AI',\n",
       "   'AI_regulation'],\n",
       "  'type': 'content'},\n",
       " 'Azure Cloud Services': {'date': '2024-08-08', 'type': 'Platform'},\n",
       " 'Claude.ai': {'date': '2024-07-03', 'type': 'Platform'},\n",
       " 'GitHub Models': {'date': '2024-08-08', 'type': 'Platform'},\n",
       " 'PyPI': {'date': '2024-06-12', 'type': 'Platform'},\n",
       " 'Codespaces': {'date': '2024-08-08', 'type': 'Platform'},\n",
       " 'Docker': {'date': '2024-07-03', 'type': 'Platform'},\n",
       " 'Polars': {'date': '2024-06-05', 'type': 'Library'},\n",
       " 'wat-inspector': {'date': '2024-08-08', 'type': 'Library'},\n",
       " 'XGBoost': {'date': '2024-07-10', 'type': 'Library'},\n",
       " 'Langchain': {'date': '2024-07-03', 'type': 'Library'},\n",
       " 'pykan': {'date': '2024-06-12', 'type': 'Library'},\n",
       " 'stockfish.js': {'date': '2024-07-10', 'type': 'Library'},\n",
       " 'PretzelAI': {'date': '2024-07-03', 'type': 'Library'},\n",
       " 'AutoGluon': {'date': '2024-07-10', 'type': 'Library'},\n",
       " 'LightGBM': {'date': '2024-07-10', 'type': 'Library'},\n",
       " 'CatBoost': {'date': '2024-07-10', 'type': 'Library'},\n",
       " 'GraphRAG': {'date': '2024-08-08', 'type': 'Library'},\n",
       " 'chess.js': {'date': '2024-07-10', 'type': 'Library'},\n",
       " 'scikit-learn': {'date': '2024-07-10', 'type': 'Library'},\n",
       " 'Prompt Tuning': {},\n",
       " 'Deep inspection': {'date': '2024-08-08', 'type': 'Concept'},\n",
       " 'Kolmogorov-Arnold Networks': {'date': '2024-06-12', 'type': 'Concept'},\n",
       " 'Human-in-the-Loop Workflows': {'date': '2024-06-05', 'type': 'Concept'},\n",
       " 'AINo Results': {'date': '2024-06-12', 'type': 'Concept'},\n",
       " 'Ensemble Methods': {'date': '2024-07-03', 'type': 'Concept'},\n",
       " 'Exogenous Variables': {'date': '2024-07-03', 'type': 'Concept'},\n",
       " 'Missing Values': {'date': '2024-07-10', 'type': 'Concept'},\n",
       " 'Inline Tab Completion': {'date': '2024-07-03', 'type': 'Concept'},\n",
       " 'Vectorized processing': {'date': '2024-06-05', 'type': 'Concept'},\n",
       " 'Hyperparameter Tuning': {'date': '2024-06-12', 'type': 'Concept'},\n",
       " 'Latent Variables': {'date': '2024-07-10', 'type': 'Concept'},\n",
       " 'Out of core processing': {'date': '2024-06-12', 'type': 'Concept'},\n",
       " 'Knowledge Graph Memory Structures': {'date': '2024-08-08',\n",
       "  'type': 'Concept'},\n",
       " 'Lazy API': {'date': '2024-06-05', 'type': 'Concept'},\n",
       " 'Dimensionality Reduction': {'date': '2024-07-10', 'type': 'Concept'},\n",
       " 'Deterministic Workflows': {'date': '2024-06-05', 'type': 'Concept'},\n",
       " 'AGI (Artificial General Intelligence)': {'date': '2024-07-03',\n",
       "  'type': 'Concept'},\n",
       " 'DataFrames': {'date': '2024-06-05', 'type': 'Concept'},\n",
       " 'Core knowledge': {'date': '2024-07-03', 'type': 'Concept'},\n",
       " 'ARC benchmark': {'date': '2024-07-03', 'type': 'Concept'},\n",
       " 'Contexts': {'date': '2024-06-05', 'type': 'Concept'},\n",
       " 'Feature Engineering': {'date': '2024-07-03', 'type': 'Concept'},\n",
       " 'EM Algorithm': {'date': '2024-07-10', 'type': 'Concept'},\n",
       " 'AutoML': {'date': '2024-07-10', 'type': 'Concept'},\n",
       " 'Model Playground': {'date': '2024-08-08', 'type': 'Concept'},\n",
       " 'Activation Functions on Edges': {'date': '2024-06-12', 'type': 'Concept'},\n",
       " 'Probabilistic Principal Components Analysis (PPCA)': {'date': '2024-07-10',\n",
       "  'type': 'Concept'},\n",
       " 'Object inspection': {'date': '2024-08-08', 'type': 'Concept'},\n",
       " 'Apache Arrow': {'date': '2024-06-05', 'type': 'Concept'},\n",
       " 'AI Sidebar': {'date': '2024-07-03', 'type': 'Concept'},\n",
       " 'Program synthesis': {'date': '2024-07-03', 'type': 'Concept'},\n",
       " 'Prompting Strategies': {'date': '2024-06-05', 'type': 'Concept'},\n",
       " 'Evaluation Strategies': {'date': '2024-06-05', 'type': 'Concept'},\n",
       " 'Dynamic typing': {'date': '2024-08-08', 'type': 'Concept'},\n",
       " 'KAN Revolution': {'date': '2024-06-12', 'type': 'Concept'},\n",
       " 'Python interpreter': {'date': '2024-08-08', 'type': 'Concept'},\n",
       " 'Test-time fine-tuning': {'date': '2024-07-03', 'type': 'Concept'},\n",
       " 'Probabilistic Chess': {'date': '2024-07-10', 'type': 'Concept'},\n",
       " 'Graph-based Retrieval-Augmented Generation (RAG)': {'date': '2024-06-05',\n",
       "  'type': 'Concept'},\n",
       " 'Hallucination Index': {'date': '2024-08-08', 'type': 'Concept'},\n",
       " 'Zero-copy data sharing': {'date': '2024-06-12', 'type': 'Concept'},\n",
       " 'AI Code Generation': {'date': '2024-07-03', 'type': 'Concept'},\n",
       " 'Expressions': {'date': '2024-06-05', 'type': 'Concept'},\n",
       " 'Multi-threaded query engine': {'date': '2024-06-05', 'type': 'Concept'},\n",
       " 'Cross-Validation Strategies': {'date': '2024-07-03', 'type': 'Concept'},\n",
       " 'TimeGPT-1': {'date': '2024-06-12', 'type': 'Model'},\n",
       " 'Chronos': {'date': '2024-06-12', 'type': 'Model'},\n",
       " 'BGE': {'date': '2024-07-03', 'type': 'Model'},\n",
       " 'Gradient Boosting Machines (GBMs)': {'date': '2024-07-03', 'type': 'Model'},\n",
       " 'TimesFM': {'date': '2024-06-12', 'type': 'Model'},\n",
       " 'Claude 3.5 Opus': {'date': '2024-07-03', 'type': 'Model'},\n",
       " 'Gemini 1.5 Flash': {'date': '2024-08-08', 'type': 'Model'},\n",
       " 'Lag-Llama': {'date': '2024-06-12', 'type': 'Model'},\n",
       " 'E5': {'date': '2024-07-03', 'type': 'Model'},\n",
       " 'Qwen2-72B-Instruct': {'date': '2024-08-08', 'type': 'Model'},\n",
       " 'Moirai': {'date': '2024-06-12', 'type': 'Model'},\n",
       " 'Claude 3.5 Sonnet': {'date': '2024-07-03', 'type': 'Model'},\n",
       " 'Solon': {'date': '2024-07-03', 'type': 'Model'},\n",
       " 'Claude 3.5 Haiku': {'date': '2024-07-03', 'type': 'Model'}}"
      ]
     },
     "execution_count": 18,
     "metadata": {},
     "output_type": "execute_result"
    }
   ],
   "source": [
    "vault.front_matter_index"
   ]
  },
  {
   "cell_type": "code",
   "execution_count": 12,
   "metadata": {},
   "outputs": [],
   "source": [
    "import wat"
   ]
  },
  {
   "cell_type": "code",
   "execution_count": 13,
   "metadata": {},
   "outputs": [
    {
     "name": "stdout",
     "output_type": "stream",
     "text": [
      "value: <obsidiantools.api.Vault object at 0x119723550>\n",
      "type: obsidiantools.api.Vault\n",
      "\n",
      "Public attributes:\n",
      "  attachments: bool = False\n",
      "  backlinks_index: dict = {…\n",
      "  canvas_content_index: dict = {}\n",
      "  canvas_file_index: dict = {}\n",
      "  canvas_graph_detail_index: dict = {}\n",
      "  dirpath: pathlib.PosixPath = ../../dsview_vault\n",
      "  embedded_files_index: dict = {…\n",
      "  front_matter_index: dict = {…\n",
      "  graph: networkx.classes.multidigraph.MultiDiGraph = MultiDiGraph with 178 nodes and 86 edges\n",
      "  is_connected: bool = True\n",
      "  is_gathered: bool = False\n",
      "  isolated_canvas_files: list = []\n",
      "  isolated_media_files: list = […\n",
      "  isolated_notes: list = […\n",
      "  math_index: dict = {…\n",
      "  md_file_index: dict = {…\n",
      "  md_links_index: dict = {…\n",
      "  media_file_index: dict = {…\n",
      "  nonexistent_canvas_files: list = []\n",
      "  nonexistent_media_files: list = []\n",
      "  nonexistent_notes: list = […\n",
      "  readable_text_index: dict = {}\n",
      "  source_text_index: dict = {}\n",
      "  tags_index: dict = {…\n",
      "  unique_md_links_index: dict = {…\n",
      "  unique_wikilinks_index: dict = {…\n",
      "  wikilinks_index: dict = {…\n",
      "\n",
      "  def connect(*, show_nested_tags: bool = False, attachments=False) # connect your notes together by representing the vault as a…\n",
      "  def gather(*, tags: list[str] = None) # gather the content of your notes so that all the plaintext is…\n",
      "  def get_all_file_metadata() -> pandas.core.frame.DataFrame # Get a structured dataset of metadata on the vault's files, where…\n",
      "  def get_backlink_counts(note_name: str) -> dict[str, int] # Get counts of backlinks for a note (given its name).…\n",
      "  def get_backlinks(note_name: str) -> list[str] # Get backlinks for a note (given its name).…\n",
      "  def get_canvas_file_metadata() -> pandas.core.frame.DataFrame # Get a structured dataset of metadata on the vault's…\n",
      "  def get_embedded_files(file_name: str) -> list[str] # Get embedded files for a note (given its filename).…\n",
      "  def get_front_matter(file_name: str) -> list[dict] # Get front matter for a note (given its filename).…\n",
      "  def get_md_links(file_name: str) -> list[str] # Get markdown links for a note (given its filename).…\n",
      "  def get_media_file_metadata() -> pandas.core.frame.DataFrame # Get a structured dataset of metadata on the vault's…\n",
      "  def get_note_metadata() -> pandas.core.frame.DataFrame # Structured dataset of metadata on the vault's notes.  This…\n",
      "  def get_readable_text(file_name: str) -> str # Get readable text for a note (given its filename).…\n",
      "  def get_source_text(file_name: str) -> str # Get text for a note (given its filename).  This requires the vault…\n",
      "  def get_tags(file_name: str) -> list[str] # Get tags for a note (given its filename).…\n",
      "  def get_wikilink_counts(note_name: str) -> dict[str, int] # Get counts of wikilinks for a note (given its name).…\n",
      "  def get_wikilinks(file_name: str) -> list[str] # Get wikilinks for a note (given its filename).…\n",
      "\n",
      "Private attributes:\n",
      "  _attachments: bool = False\n",
      "  _backlinks_index: dict = {…\n",
      "  _canvas_content_index: dict = {}\n",
      "  _canvas_file_index: dict = {}\n",
      "  _canvas_graph_detail_index: dict = {}\n",
      "  _dirpath: pathlib.PosixPath = ../../dsview_vault\n",
      "  _embedded_files_index: dict = {…\n",
      "  _front_matter_index: dict = {…\n",
      "  _graph: networkx.classes.multidigraph.MultiDiGraph = MultiDiGraph with 178 nodes and 86 edges\n",
      "  _is_connected: bool = True\n",
      "  _is_gathered: bool = False\n",
      "  _isolated_canvas_files: list = []\n",
      "  _isolated_media_files: list = […\n",
      "  _isolated_notes: list = […\n",
      "  _math_index: dict = {…\n",
      "  _md_file_index: dict = {…\n",
      "  _md_links_index: dict = {…\n",
      "  _media_file_index: dict = {…\n",
      "  _nonexistent_canvas_files: list = []\n",
      "  _nonexistent_media_files: list = []\n",
      "  _nonexistent_notes: list = […\n",
      "  _readable_text_index: dict = {}\n",
      "  _source_text_index: dict = {}\n",
      "  _tags_index: dict = {…\n",
      "  _unique_md_links_index: dict = {…\n",
      "  _unique_wikilinks_index: dict = {…\n",
      "  _wikilinks_index: dict = {…\n",
      "\n",
      "  def _Vault__get_file_dicts_tuple(linked_files_list: list[str], *, links_index: dict[list[str]], existing_file_relpaths: list[pathlib.Path], file_type: str)\n",
      "  def _Vault__get_graph_data_dict(*, attachments=False) -> dict[str, list[str]] # Get the dict {k: v} of the graph's data:…\n",
      "  def _Vault__get_relpaths_by_name(*, extension, **kwargs) -> dict[str, pathlib.Path] # Return k,v pairs…\n",
      "  def _clean_up_note_metadata_dtypes(df: pandas.core.frame.DataFrame) -> pandas.core.frame.DataFrame # pipe func for mutating df\n",
      "  def _connect_update_based_on_new_relpath(relpath: pathlib.Path, *, note: str, show_nested_tags: bool) # Individual file read & associated attrs update for the…\n",
      "  def _create_canvas_file_metadata_columns(df: pandas.core.frame.DataFrame) -> pandas.core.frame.DataFrame # pipe func for mutating df\n",
      "  def _create_media_file_metadata_columns(df: pandas.core.frame.DataFrame) -> pandas.core.frame.DataFrame # pipe func for mutating df\n",
      "  def _create_note_metadata_columns(df: pandas.core.frame.DataFrame) -> pandas.core.frame.DataFrame # pipe func for mutating df\n",
      "  def _gather_update_based_on_new_relpath(relpath: pathlib.Path, *, note: str, tags: list[str]) # Individual file read & associated attrs update for the…\n",
      "  def _get_backlink_counts_for_canvas_files_only() -> dict[str, int]\n",
      "  def _get_backlink_counts_for_media_files_only() -> dict[str, int]\n",
      "  def _get_backlinks_index(*, graph: networkx.classes.multidigraph.MultiDiGraph) -> dict[str, list[str]] # Return k,v pairs…\n",
      "  def _get_canvas_file_dicts_tuple() -> tuple[dict[str, pathlib.Path], dict[str, pathlib.Path], dict[str, pathlib.Path]] # Return (existent files linked,…\n",
      "  def _get_canvas_relpaths(**kwargs) -> list[pathlib.Path] # Return list of canvas filepaths *relative* to the directory instantiated…\n",
      "  def _get_canvas_relpaths_by_name(**kwargs) -> dict[str, pathlib.Path]\n",
      "  def _get_isolated_notes(*, graph: networkx.classes.multidigraph.MultiDiGraph) -> list[str] # Get notes that are not connected to any other notes in the vault,…\n",
      "  def _get_md_relpaths(**kwargs) -> list[pathlib.Path] # Return list of md filepaths *relative* to the directory instantiated…\n",
      "  def _get_md_relpaths_by_name(**kwargs) -> dict[str, pathlib.Path]\n",
      "  def _get_media_file_dicts_tuple() -> tuple[dict[str, pathlib.Path], dict[str, pathlib.Path], dict[str, pathlib.Path]] # Return (existent files embedded,…\n",
      "  def _get_nonexistent_notes() -> list[str] # Get notes that have backlinks but don't have md files.…\n",
      "  def _set_canvas_file_attrs()\n",
      "  def _set_graph_related_attributes()\n",
      "  def _set_media_file_attrs()\n"
     ]
    }
   ],
   "source": [
    "wat(vault)"
   ]
  },
  {
   "cell_type": "code",
   "execution_count": null,
   "metadata": {},
   "outputs": [],
   "source": [
    "vault.get_"
   ]
  }
 ],
 "metadata": {
  "kernelspec": {
   "display_name": "py311_dsview",
   "language": "python",
   "name": "python3"
  },
  "language_info": {
   "codemirror_mode": {
    "name": "ipython",
    "version": 3
   },
   "file_extension": ".py",
   "mimetype": "text/x-python",
   "name": "python",
   "nbconvert_exporter": "python",
   "pygments_lexer": "ipython3",
   "version": "3.11.9"
  }
 },
 "nbformat": 4,
 "nbformat_minor": 2
}
