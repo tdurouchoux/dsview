{
 "cells": [
  {
   "cell_type": "code",
   "execution_count": 1,
   "metadata": {},
   "outputs": [],
   "source": [
    "from dsview.content_loader import UrlLoader"
   ]
  },
  {
   "cell_type": "code",
   "execution_count": 13,
   "metadata": {},
   "outputs": [],
   "source": [
    "from langchain_openai import ChatOpenAI"
   ]
  },
  {
   "cell_type": "code",
   "execution_count": 14,
   "metadata": {},
   "outputs": [],
   "source": [
    "llm = ChatOpenAI(temperature=0, model_name=\"gpt-4o-mini\")"
   ]
  },
  {
   "cell_type": "code",
   "execution_count": 65,
   "metadata": {},
   "outputs": [],
   "source": [
    "url_loader = UrlLoader(\"http://www.anthropic.com/news/claude-3-5-sonnet\")"
   ]
  },
  {
   "cell_type": "code",
   "execution_count": 23,
   "metadata": {},
   "outputs": [],
   "source": [
    "url_loader = UrlLoader(\"https://www.rungalileo.io/hallucinationindex\")"
   ]
  },
  {
   "cell_type": "code",
   "execution_count": 66,
   "metadata": {},
   "outputs": [
    {
     "name": "stderr",
     "output_type": "stream",
     "text": [
      "/Users/tdurouchoux/Documents/projects/dsview/dsview/content_loader.py:52: GuessedAtParserWarning: No parser was explicitly specified, so I'm using the best available HTML parser for this system (\"html.parser\"). This usually isn't a problem, but if you run this code on another system, or in a different virtual environment, it may use a different parser and behave differently.\n",
      "\n",
      "The code that caused this warning is on line 52 of the file /Users/tdurouchoux/Documents/projects/dsview/dsview/content_loader.py. To get rid of this warning, pass the additional argument 'features=\"html.parser\"' to the BeautifulSoup constructor.\n",
      "\n",
      "  self.content_soup = BeautifulSoup(response.content)\n"
     ]
    }
   ],
   "source": [
    "url_loader.load()"
   ]
  },
  {
   "cell_type": "code",
   "execution_count": 32,
   "metadata": {},
   "outputs": [],
   "source": [
    "links = url_loader.content_soup.find_all(\"a\")"
   ]
  },
  {
   "cell_type": "code",
   "execution_count": 67,
   "metadata": {},
   "outputs": [
    {
     "name": "stdout",
     "output_type": "stream",
     "text": [
      "Link: https://claude.ai/ Text: Try on Claude.ai\n",
      "Link: https://aws.amazon.com/blogs/aws/anthropics-claude-3-5-sonnet-model-now-available-in-amazon-bedrock-the-most-intelligent-claude-model-yet/ Text: Amazon Bedrock\n",
      "Link: https://cloud.google.com/blog/products/ai-machine-learning/announcing-anthropics-claude-3-5-sonnet-on-vertex-ai-providing-more-choice-for-enterprises Text: Google Cloud’s Vertex AI\n",
      "Link: https://www-cdn.anthropic.com/fed9cc193a14b84131812372d8d5857f8f304c52/Model_Card_Claude_3_Addendum.pdf Text: internal agentic coding evaluation\n",
      "Link: https://www.anthropic.com/news/tool-use-ga Text: provided with the relevant tools\n",
      "Link: https://www.anthropic.com/news/anthropics-responsible-scaling-policy Text: ASL-2\n",
      "Link: https://www-cdn.anthropic.com/fed9cc193a14b84131812372d8d5857f8f304c52/Model_Card_Claude_3_Addendum.pdf Text: model card addendum\n",
      "Link: https://www.commerce.gov/news/press-releases/2024/04/us-and-uk-announce-partnership-science-ai-safety Text: announced earlier this year\n",
      "Link: https://www.thorn.org/ Text: Thorn\n",
      "Link: https://twitter.com/intent/tweet?text=https://www.anthropic.com/news/claude-3-5-sonnet Text: None\n",
      "Link: https://www.linkedin.com/shareArticle?mini=true&url=https://www.anthropic.com/news/claude-3-5-sonnet Text: None\n",
      "Link: https://support.anthropic.com/ Text: Support\n",
      "Link: https://status.anthropic.com/ Text: Status\n",
      "Link: https://twitter.com/AnthropicAI Text: Twitter\n",
      "Link: https://www.linkedin.com/company/anthropicresearch Text: LinkedIn\n",
      "Link: https://trust.anthropic.com/ Text: Compliance\n"
     ]
    }
   ],
   "source": [
    "links_list = []\n",
    "\n",
    "links = url_loader.content_soup.find_all(\"a\")\n",
    "for link in links:\n",
    "    link_url = link.get(\"href\")\n",
    "    if link_url is not None and link_url.startswith(\"http\"):\n",
    "        url = link.get(\"href\")\n",
    "        print(\"Link:\", link.get(\"href\"), \"Text:\", link.string)\n",
    "        links_list.append(str(link))"
   ]
  },
  {
   "cell_type": "code",
   "execution_count": 62,
   "metadata": {},
   "outputs": [
    {
     "data": {
      "text/plain": [
       "['<a class=\"block py-4 text-sm duration-200 hover:opacity-80\" href=\"https://github.com/rungalileo/hallucination-index\" target=\"_blank\">Github</a>',\n",
       " '<a class=\"duration-200 hover:opacity-80\" href=\"https://github.com/rungalileo/hallucination-index\" target=\"_blank\">Github</a>',\n",
       " '<a class=\"my-8 text-[#5C5CFF]\" href=\"https://docs.rungalileo.io/galileo/gen-ai-studio-products/guardrail-store/context-adherence/groundedness\" target=\"_blank\">Context Adherence</a>',\n",
       " '<a class=\"my-8 text-[#5C5CFF]\" href=\"https://www.rungalileo.io/blog/chainpoll\">ChainPoll</a>',\n",
       " '<a class=\"text-hi-100 hover:underline\" href=\"https://www.together.ai/\" rel=\"noopener noreferrer\" target=\"_blank\">Together.ai</a>',\n",
       " '<a class=\"text-hi-100 hover:underline\" href=\"https://www.together.ai/\" rel=\"noopener noreferrer\" target=\"_blank\">Together.ai</a>']"
      ]
     },
     "execution_count": 62,
     "metadata": {},
     "output_type": "execute_result"
    }
   ],
   "source": [
    "links_list"
   ]
  },
  {
   "cell_type": "code",
   "execution_count": 27,
   "metadata": {},
   "outputs": [],
   "source": [
    "from langchain_core.prompts import ChatPromptTemplate"
   ]
  },
  {
   "cell_type": "code",
   "execution_count": 68,
   "metadata": {},
   "outputs": [],
   "source": [
    "prompt = ChatPromptTemplate.from_template(\n",
    "    \"\"\"\n",
    "You are part of a knowledge management system, your role is to help highlight the most relevant information from Data Science sources.\n",
    "The source could be about mathematics, Python, Machine Learning, Large Language Model, Data engineering or any related subject.\n",
    "You will be provided with the text of the source and links that are mentioned within the source. Your task is to select at most 5\n",
    "links that are the most relevant technically relevant to the source. You must ignore any social networks links or internal website links, \n",
    "also you should not provide duplicate links.\n",
    "\n",
    "The output should like this : \n",
    "1. [link 1 name](url 1) - quick description 1\n",
    "2. [link 2 name](url 2) - quick description 2\n",
    "\n",
    "\n",
    "Data Science source extracted from url {url}:\n",
    "{input}\n",
    "\n",
    "Links within this source : \n",
    "{links}\n",
    "\"\"\"\n",
    ")"
   ]
  },
  {
   "cell_type": "code",
   "execution_count": 69,
   "metadata": {},
   "outputs": [],
   "source": [
    "link_selector = prompt | llm"
   ]
  },
  {
   "cell_type": "code",
   "execution_count": 70,
   "metadata": {},
   "outputs": [],
   "source": [
    "link_selection = link_selector.invoke(\n",
    "    {\"url\": url_loader.url, \"input\": url_loader.content, \"links\": \"\\n\".join(links_list)})"
   ]
  },
  {
   "cell_type": "code",
   "execution_count": 71,
   "metadata": {},
   "outputs": [
    {
     "name": "stdout",
     "output_type": "stream",
     "text": [
      "1. [Amazon Bedrock](https://aws.amazon.com/blogs/aws/anthropics-claude-3-5-sonnet-model-now-available-in-amazon-bedrock-the-most-intelligent-claude-model-yet/) - Learn about the integration of Claude 3.5 Sonnet with Amazon Bedrock, enhancing AI capabilities for enterprises.\n",
      "2. [Google Cloud’s Vertex AI](https://cloud.google.com/blog/products/ai-machine-learning/announcing-anthropics-claude-3-5-sonnet-on-vertex-ai-providing-more-choice-for-enterprises) - Discover how Claude 3.5 Sonnet is available on Google Cloud’s Vertex AI, providing more options for businesses.\n",
      "3. [Model Card Addendum](https://www-cdn.anthropic.com/fed9cc193a14b84131812372d8d5857f8f304c52/Model_Card_Claude_3_Addendum.pdf) - Access the detailed model card addendum for Claude 3.5 Sonnet, which includes performance metrics and safety evaluations.\n",
      "4. [ASL-2](https://www.anthropic.com/news/anthropics-responsible-scaling-policy) - Read about the ASL-2 safety classification and the measures taken to ensure the responsible use of AI models.\n",
      "5. [Thorn](https://www.thorn.org/) - Explore Thorn's initiatives in child safety and how their feedback has influenced the safety mechanisms in AI models like Claude 3.5 Sonnet.\n"
     ]
    }
   ],
   "source": [
    "print(link_selection.content)\n"
   ]
  },
  {
   "cell_type": "code",
   "execution_count": null,
   "metadata": {},
   "outputs": [],
   "source": []
  }
 ],
 "metadata": {
  "kernelspec": {
   "display_name": "py311_dsview",
   "language": "python",
   "name": "python3"
  },
  "language_info": {
   "codemirror_mode": {
    "name": "ipython",
    "version": 3
   },
   "file_extension": ".py",
   "mimetype": "text/x-python",
   "name": "python",
   "nbconvert_exporter": "python",
   "pygments_lexer": "ipython3",
   "version": "3.11.9"
  }
 },
 "nbformat": 4,
 "nbformat_minor": 2
}
